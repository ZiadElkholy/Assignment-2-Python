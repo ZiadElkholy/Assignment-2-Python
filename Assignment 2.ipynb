{
 "cells": [
  {
   "cell_type": "code",
   "execution_count": 32,
   "id": "de16cf38",
   "metadata": {},
   "outputs": [
    {
     "name": "stdout",
     "output_type": "stream",
     "text": [
      "Enter values: 1 2 3\n",
      "Original ('1', '2', '3')\n",
      "After add ('1', '2', '3', '6')\n"
     ]
    }
   ],
   "source": [
    "# Q1 Write a Python program to add an item to a tuple.\n",
    "#tuple1=(1,2,3,4,5)\n",
    "tuple1=tuple(input(\"Enter values: \").split())\n",
    "print(\"Original\",tuple1)\n",
    "tuple1=tuple1+('6',)\n",
    "print(\"After add\",tuple1)"
   ]
  },
  {
   "cell_type": "code",
   "execution_count": 4,
   "id": "689bc964",
   "metadata": {},
   "outputs": [
    {
     "name": "stdout",
     "output_type": "stream",
     "text": [
      "Enter Values: 1 2 3 4 5 6\n",
      "String List  ['1', '2', '3', '4', '5', '6']\n",
      "Integers List  [1, 2, 3, 4, 5, 6]\n",
      "sum = 21\n"
     ]
    }
   ],
   "source": [
    "#Q2 Write a Python program to sum all the items in a list.\n",
    "\n",
    "list1=list(input(\"Enter Values: \").split())\n",
    "print(\"String List \",list1)#for check\n",
    "\n",
    "for i in range (0,len(list1)):\n",
    "     list1[i]=int(list1[i])\n",
    "\n",
    "print(\"Integers List \",list1)#for check\n",
    "sum1=0\n",
    "\n",
    "for i in range(0,len(list1)):\n",
    "     sum1+=list1[i]\n",
    "print(\"sum =\",sum1)    "
   ]
  },
  {
   "cell_type": "code",
   "execution_count": 8,
   "id": "0db9039d",
   "metadata": {},
   "outputs": [
    {
     "name": "stdout",
     "output_type": "stream",
     "text": [
      "Enter Values: 1 2 3 4\n",
      "String List  ['1', '2', '3', '4']\n",
      "Integers List  [1, 2, 3, 4]\n",
      "mult1 = 24\n"
     ]
    }
   ],
   "source": [
    "#Q3 Write a Python program to multiply all the items in a list.\n",
    "\n",
    "list1=list(input(\"Enter Values: \").split())\n",
    "print(\"String List \",list1)#for check\n",
    "\n",
    "for i in range (0,len(list1)):\n",
    "     list1[i]=int(list1[i])\n",
    "\n",
    "print(\"Integers List \",list1)#for check\n",
    "mult=1\n",
    "\n",
    "for i in range(0,len(list1)):\n",
    "     mult*=list1[i]\n",
    "print(\"mult1 =\",mult)    "
   ]
  },
  {
   "cell_type": "code",
   "execution_count": 11,
   "id": "2f8ebd31",
   "metadata": {},
   "outputs": [
    {
     "name": "stdout",
     "output_type": "stream",
     "text": [
      "Enter Values: 7 2 66 1 5\n",
      "String List  ['7', '2', '66', '1', '5']\n",
      "Integers List  [7, 2, 66, 1, 5]\n",
      "minimum value = 1\n"
     ]
    }
   ],
   "source": [
    "#Q4 Write a Python program to get the smallest number from a list.\n",
    "\n",
    "list1=list(input(\"Enter Values: \").split())\n",
    "print(\"String List \",list1)#for check\n",
    "\n",
    "for i in range (0,len(list1)):\n",
    "     list1[i]=int(list1[i])\n",
    "\n",
    "print(\"Integers List \",list1) #for check\n",
    "\n",
    "for i in range(0,len(list1)):\n",
    "     min1=min(list1)\n",
    "print(\"minimum value =\",min1)    "
   ]
  },
  {
   "cell_type": "code",
   "execution_count": 12,
   "id": "bacb893f",
   "metadata": {},
   "outputs": [
    {
     "name": "stdout",
     "output_type": "stream",
     "text": [
      "Enter Values: 22 55 44 66 60\n",
      "String List  ['22', '55', '44', '66', '60']\n",
      "Integers List  [22, 55, 44, 66, 60]\n",
      "maximum value = 66\n"
     ]
    }
   ],
   "source": [
    "#Q5 Write a Python program to get the largest number from a list.\n",
    "\n",
    "list1=list(input(\"Enter Values: \").split())\n",
    "print(\"String List \",list1)#for check\n",
    "\n",
    "for i in range (0,len(list1)):\n",
    "     list1[i]=int(list1[i])\n",
    "\n",
    "print(\"Integers List \",list1) #for check\n",
    "\n",
    "for i in range(0,len(list1)):\n",
    "     max1=max(list1)\n",
    "print(\"maximum value =\",max1)    "
   ]
  },
  {
   "cell_type": "code",
   "execution_count": 14,
   "id": "46c74291",
   "metadata": {},
   "outputs": [
    {
     "name": "stdout",
     "output_type": "stream",
     "text": [
      "Enter cars names: BMW lada Toyota mazda BMW BMW Hyundai\n",
      "List  ['BMW', 'lada', 'Toyota', 'mazda', 'BMW', 'BMW', 'Hyundai']\n",
      "maximum value = 3\n"
     ]
    }
   ],
   "source": [
    "#Q6 Write a Python program to count the number of strings from a given list of strings.\n",
    "\n",
    "list1=list(input(\"Enter cars names: \").split())\n",
    "print(\"List \",list1)#for check\n",
    "\n",
    "for i in range(0,len(list1)):\n",
    "     count=list1.count('BMW')\n",
    "print(\"maximum value =\",count)    "
   ]
  },
  {
   "cell_type": "code",
   "execution_count": 20,
   "id": "8b6bcf62",
   "metadata": {},
   "outputs": [
    {
     "name": "stdout",
     "output_type": "stream",
     "text": [
      "First List: [4, 8, 2, 10, 15, 18]\n",
      "Copied List: [4, 8, 2, 10, 15, 18]\n"
     ]
    }
   ],
   "source": [
    "#Q7 Write a Python program to clone or copy a list\n",
    "\n",
    "\n",
    "def clon(list1):\n",
    "    list_copy =[]\n",
    "    list_copy = list1.copy()\n",
    "    return list_copy\n",
    "\n",
    "\n",
    "list1 = [4, 8, 2, 10, 15, 18]\n",
    "list2 = clon(list1)\n",
    "print(\"First List:\", list1)\n",
    "print(\"Copied List:\", list2)\n"
   ]
  },
  {
   "cell_type": "code",
   "execution_count": 40,
   "id": "b90af055",
   "metadata": {},
   "outputs": [
    {
     "name": "stdout",
     "output_type": "stream",
     "text": [
      "Enter Values: 1 2 3 4 5\n",
      "Start set:  {'5', '4', '3', '1', '2'}\n",
      "['5', '4', '3', '1', '2']\n",
      "['5', '4', '1', '2']\n",
      "Final set: {'1', '2', '5', '4'}\n"
     ]
    }
   ],
   "source": [
    "#Q8 Write a Python program to remove item(s) from a given set.\n",
    "\n",
    "set1=set(input(\"Enter Values: \").split())\n",
    "print(\"Start set: \",set1)#for check\n",
    "set1=list(set1)\n",
    "print(set1)#for check\n",
    "set1.remove('3')\n",
    "print(set1)#for check\n",
    "set1=set(set1)\n",
    "print(\"Final set:\",set1)#for check\n"
   ]
  },
  {
   "cell_type": "code",
   "execution_count": 8,
   "id": "e1f40e5c",
   "metadata": {},
   "outputs": [
    {
     "name": "stdout",
     "output_type": "stream",
     "text": [
      "set2 is subset of set1\n"
     ]
    }
   ],
   "source": [
    "#Q9 Write a Python program to check if a set is a subset of another set.\n",
    "\n",
    "set1={'red','blue','green','yellow'}\n",
    "set2={'red','blue'}\n",
    "if set2.issubset(set1)== True :\n",
    "    print(\"set2 is subset of set1\")\n",
    "else:\n",
    "    print(\"set2 is not subset of set1 \")"
   ]
  },
  {
   "cell_type": "code",
   "execution_count": 2,
   "id": "307e5c86",
   "metadata": {},
   "outputs": [
    {
     "name": "stdout",
     "output_type": "stream",
     "text": [
      "Enter Values: 1 2 3 4 5 6\n",
      "set:  {'2', '1', '5', '4', '3', '6'}\n",
      "If you want clear set-->clear ,notclear-->stay: clear\n",
      "Set is cleared: set()\n",
      "if you want repeat -->1 exit-->0: 1\n",
      "Enter Values: 222 55 66 88\n",
      "set:  {'55', '222', '88', '66'}\n",
      "If you want clear set-->clear ,notclear-->stay: stay\n",
      "set= {'55', '222', '88', '66'}\n",
      "if you want repeat -->1 exit-->0: 0\n"
     ]
    }
   ],
   "source": [
    "#Q10 Write a Python program to remove all elements from a given set.\n",
    "\n",
    "repeat=1\n",
    "while repeat==1:\n",
    "    set1=set(input(\"Enter Values: \").split())\n",
    "    print(\"set: \",set1)#for check\n",
    "    choice=input(\"If you want clear set-->clear ,notclear-->stay: \")\n",
    "    if choice==\"clear\" :\n",
    "        set1.clear()\n",
    "        print(\"Set is cleared:\",set1)#for check\n",
    "    elif choice==\"stay\":    \n",
    "        print(\"set=\",set1)#for check\n",
    "    repeat=int(input(\"if you want repeat -->1 exit-->0: \"))    "
   ]
  },
  {
   "cell_type": "code",
   "execution_count": 3,
   "id": "1cad7e84",
   "metadata": {},
   "outputs": [
    {
     "name": "stdout",
     "output_type": "stream",
     "text": [
      "maximum value:  10\n",
      "minimum value:  0\n"
     ]
    }
   ],
   "source": [
    "#Q11 Write a Python program to find the maximum and minimum values in a set.\n",
    "\n",
    "set1={1,2,3,4,5,6,8,0,10}\n",
    "max1=max(set1)\n",
    "print(\"maximum value: \",max1)\n",
    "min1=min(set1)\n",
    "print(\"minimum value: \",min1)"
   ]
  },
  {
   "cell_type": "code",
   "execution_count": 8,
   "id": "14f8f1fa",
   "metadata": {},
   "outputs": [
    {
     "name": "stdout",
     "output_type": "stream",
     "text": [
      "('z', 'i', 'a', 'd', ' ', 'E', 'l', 'k', 'h', 'o', 'l', 'y')\n",
      "5\n"
     ]
    }
   ],
   "source": [
    "#Q12 Write a Python program to find the index of an item in a tuple.\n",
    "\n",
    "tup=tuple(\"ziad Elkholy\")\n",
    "print(tup)#for check\n",
    "print(tup.index(\"E\"))"
   ]
  },
  {
   "cell_type": "code",
   "execution_count": 9,
   "id": "68c2fbb5",
   "metadata": {},
   "outputs": [
    {
     "name": "stdout",
     "output_type": "stream",
     "text": [
      "{'z': 2, 'e': 3}\n"
     ]
    }
   ],
   "source": [
    "#Q13 Write a Python program to convert a tuple to a dictionary.\n",
    "tuplex = ((2, \"z\"),(3, \"e\"))\n",
    "print(dict((y, x) for x, y in tuplex))"
   ]
  },
  {
   "cell_type": "code",
   "execution_count": 10,
   "id": "73fdb350",
   "metadata": {},
   "outputs": [
    {
     "name": "stdout",
     "output_type": "stream",
     "text": [
      "Original List: [('ziad', 22), ('Ahmed', 20), ('Alaa', 21)]\n",
      "Unzip list [['ziad', 'Ahmed', 'Alaa'], [22, 20, 21]]\n"
     ]
    }
   ],
   "source": [
    "#Q14 Write a Python program to unzip a list of tuples into individual lists.\n",
    "\n",
    "Personal_list = [('ziad', 22), ('Ahmed', 20), ('Alaa', 21)]\n",
    "\n",
    "print(\"Original List:\", str(Personal_list))\n",
    "\n",
    "unzip_list = [[i for i, j in Personal_list],[j for i, j in Personal_list]]\n",
    "\n",
    "print('Unzip list', unzip_list)"
   ]
  },
  {
   "cell_type": "code",
   "execution_count": 12,
   "id": "5a2c5184",
   "metadata": {},
   "outputs": [
    {
     "name": "stdout",
     "output_type": "stream",
     "text": [
      "('j', 'i', 'h', 'g', 'f', 'e', 'd', 'c', 'b', 'a')\n"
     ]
    }
   ],
   "source": [
    "#Q15 Write a Python program to reverse a tuple.\n",
    "\n",
    "def Reverse(tuple1):\n",
    "    tuple2 = tuple1[::-1]\n",
    "    return tuple2\n",
    "     \n",
    "\n",
    "tuple1 = ('a','b','c','d','e','f','g','h','i','j')\n",
    "print(Reverse(tuple1))"
   ]
  },
  {
   "cell_type": "code",
   "execution_count": 15,
   "id": "20414dd7",
   "metadata": {},
   "outputs": [
    {
     "name": "stdout",
     "output_type": "stream",
     "text": [
      "{'Ziad': 20, 'Zain': 17, 'elkholy': 19, 'nour': 20}\n"
     ]
    }
   ],
   "source": [
    "#Q16 Write a Python program to convert a list of tuples into a dictionary.\n",
    "\n",
    "\n",
    "print(dict([(\"Ziad\", 20), (\"Zain\", 17), (\"elkholy\", 19), (\"nour\", 20)]))\n"
   ]
  },
  {
   "cell_type": "code",
   "execution_count": 16,
   "id": "10e25fd0",
   "metadata": {},
   "outputs": [
    {
     "name": "stdout",
     "output_type": "stream",
     "text": [
      "[(10, 20, 100), (40, 50, 100), (70, 80, 100)]\n"
     ]
    }
   ],
   "source": [
    "#Q17  Write a Python program to replace the last value of tuples in a list.\n",
    "\n",
    "list = [(10, 20, 40), (40, 50, 60), (70, 80, 90)]\n",
    "print([x[:-1] + (100,) for x in list])\n"
   ]
  },
  {
   "cell_type": "code",
   "execution_count": 20,
   "id": "e9406eac",
   "metadata": {},
   "outputs": [
    {
     "name": "stdout",
     "output_type": "stream",
     "text": [
      "[('bananna', '15.00'), ('orange', '10.25'), ('apple', '5.50')]\n"
     ]
    }
   ],
   "source": [
    "#Q18 Write a Python program to sort a tuple by its float element.\n",
    "\n",
    "cost = [('apple', '5.50'), ('bananna', '15.00'), ('orange', '10.25')]\n",
    "print( sorted(cost, key=lambda x: float(x[1]), reverse=True))"
   ]
  }
 ],
 "metadata": {
  "kernelspec": {
   "display_name": "Python 3 (ipykernel)",
   "language": "python",
   "name": "python3"
  },
  "language_info": {
   "codemirror_mode": {
    "name": "ipython",
    "version": 3
   },
   "file_extension": ".py",
   "mimetype": "text/x-python",
   "name": "python",
   "nbconvert_exporter": "python",
   "pygments_lexer": "ipython3",
   "version": "3.10.9"
  }
 },
 "nbformat": 4,
 "nbformat_minor": 5
}
